{
 "cells": [
  {
   "cell_type": "code",
   "execution_count": 4,
   "metadata": {},
   "outputs": [],
   "source": [
    "import os\n",
    "from os import listdir\n",
    "from os.path import isfile, join\n",
    "import re\n",
    "import pickle\n",
    "import numpy as np\n",
    "import matplotlib.pyplot as plt\n",
    "import matplotlib as mpl\n",
    "import numpy as np\n",
    "from pylab import cm\n",
    "import mpltex\n",
    "import itertools\n",
    "from matplotlib import pyplot\n",
    "from scipy import stats\n",
    "\n",
    "plt.rcParams['pdf.fonttype'] = 42\n",
    "plt.rcParams['ps.fonttype'] = 42\n",
    "mpl.rcParams['font.family'] = 'Avenir'\n",
    "plt.rcParams['font.size'] = 16\n",
    "plt.rcParams['axes.linewidth'] = 2\n",
    "\n",
    "mypath = os.getcwd()\n",
    "folder_lst = [f for f in listdir(mypath) if not isfile(join(mypath, f))]\n",
    "x_axis= 'exploit threshold'"
   ]
  },
  {
   "cell_type": "code",
   "execution_count": 5,
   "metadata": {},
   "outputs": [
    {
     "name": "stdout",
     "output_type": "stream",
     "text": [
      "repeat\n",
      "state threshold\n",
      "exploit threshold\n",
      "time_lst\n",
      "repeat\n",
      "state threshold\n",
      "exploit threshold\n",
      "time_lst\n",
      "repeat\n",
      "state threshold\n",
      "exploit threshold\n",
      "time_lst\n",
      "repeat\n",
      "state threshold\n",
      "exploit threshold\n",
      "time_lst\n",
      "repeat\n",
      "state threshold\n",
      "exploit threshold\n",
      "time_lst\n",
      "repeat\n",
      "state threshold\n",
      "exploit threshold\n",
      "time_lst\n",
      "repeat\n",
      "state threshold\n",
      "exploit threshold\n",
      "time_lst\n"
     ]
    }
   ],
   "source": [
    "json_lst = {}\n",
    "for folder in folder_lst:\n",
    "    json_lst[folder] = {}\n",
    "    readme = os.path.join(mypath, folder, 'readme.txt')\n",
    "    json_lst[folder]['pickle'] = os.path.join(mypath, folder, 'result_0.30000000000000004_1.pkl')\n",
    "    with open(readme) as f:\n",
    "        lines = f.readlines()\n",
    "        for line in lines: \n",
    "            parsed_line = re.split(': ', line[:-2])\n",
    "            key = parsed_line[0]\n",
    "            print(key)\n",
    "            value = parsed_line[1]\n",
    "            if 'state threshold' == key or 'exploit threshold' == key:\n",
    "                value = float(value)\n",
    "            elif 'exploit percentage drop' == key:\n",
    "                value = float(value[1:-1])\n",
    "            elif 'time_lst' == key:\n",
    "                value = np.array([float(t) for t in re.split(', ', value[1:-1])])\n",
    "            json_lst[folder][key] = value\n",
    "    "
   ]
  },
  {
   "cell_type": "code",
   "execution_count": 6,
   "metadata": {},
   "outputs": [],
   "source": [
    "policies = [\"No Investigation\", \"MinFP\", \"Random\",  \"Bayes\", \"MaxEntropy\",\"All\"]\n",
    "summary_keys = ['mean','std']\n",
    "summary_json = {}\n",
    "for folder in folder_lst:\n",
    "    summary_json[json_lst[folder][x_axis]] = {}\n",
    "    for p in policies:\n",
    "        summary_json[json_lst[folder][x_axis]][p] = {}\n",
    "        for key in summary_keys:\n",
    "            summary_json[json_lst[folder][x_axis]][p][key] = {}\n",
    "    summary_json[json_lst[folder][x_axis]]['time_lst'] = json_lst[folder]['time_lst']\n",
    "\n",
    "for folder in folder_lst:\n",
    "    file = open(json_lst[folder]['pickle'],'rb')\n",
    "    object_file = pickle.load(file)\n",
    "    file.close()\n",
    "    temp = {}\n",
    "    mse_key = ['MSE']\n",
    "    for k in mse_key: \n",
    "        v = object_file[k]\n",
    "        temp[k] ={}\n",
    "        for k2,v2 in v.items():\n",
    "            if k2.split('_')[0] == \"LowFP\":\n",
    "                temp[k]['MinFP_'+ k2.split('_')[1]] = v2\n",
    "            elif k2.split('_')[0] == \"No investigation\":\n",
    "                temp[k]['No Investigation_'+ k2.split('_')[1]] = v2\n",
    "            else:\n",
    "                temp[k][k2] = v2\n",
    "    object_file = temp\n",
    "\n",
    "    save_dict = {}\n",
    "    policies_list = []\n",
    "    metrics_list = []\n",
    "    omega_list = []\n",
    "    for metric, v in object_file.items():\n",
    "        for k2, v2 in v.items():\n",
    "            policy = k2.split('_')[0] \n",
    "            omega = k2.split('_')[1]\n",
    "            omega_list.append(omega)\n",
    "            save_dict[omega] = {}\n",
    "    for metric, v in object_file.items():\n",
    "        metrics_list.append(metric)\n",
    "        for k,v in save_dict.items():\n",
    "            save_dict[k][metric] = {}\n",
    "\n",
    "    for metric, v in object_file.items():\n",
    "        for k2, v2 in v.items():\n",
    "            policy = k2.split('_')[0] \n",
    "            if policy not in policies_list:\n",
    "                policies_list.append(policy)\n",
    "            omega = k2.split('_')[1]\n",
    "            try:\n",
    "                save_dict[omega][metric][policy] = v2\n",
    "            except:\n",
    "                save_dict[omega][metric] = {}\n",
    "                save_dict[omega][metric][policy] = v2\n",
    "    # policies_list = np.unique(policies_list)\n",
    "    omega_list = set(omega_list)\n",
    "\n",
    "    # fig, ax = plt.subplots(nrows = 1, ncols=1, figsize=(10,5))\n",
    "\n",
    "    locs = [\"upper left\", \"upper right\"]\n",
    "    for metric, metric_dict in save_dict[list(save_dict.keys())[-1]].items():\n",
    "        linestyles = mpltex.linestyle_generator(colors=[],\n",
    "                                            lines=['-',':'],\n",
    "                                            markers=['o','^', 'x', 's'],\n",
    "                                            hollow_styles=[False, True],)\n",
    "        for policy in policies:\n",
    "            rollouts = save_dict[list(save_dict.keys())[-1]][metric][policy]\n",
    "            summary_json[json_lst[folder][x_axis]][policy]['mean'] = rollouts.mean(axis=0)\n",
    "            summary_json[json_lst[folder][x_axis]][policy]['std'] = rollouts.std(axis=0)\n",
    "    #         ax.plot(rollouts.mean(axis=0), \n",
    "    #                     lw=2,\n",
    "    #                     label=f'{policy}', \n",
    "    #                     **next(linestyles),\n",
    "    #                     markevery=5\n",
    "    #                     )\n",
    "    #         ax.set_title('')\n",
    "    #     # ax.legend(loc=locs)\n",
    "    #     ax.set_ylim([0, 1])\n",
    "    #     ax.set_xlabel('Step (t)', labelpad=10)\n",
    "    #     ax.set_ylabel('MSE', labelpad=10)\n",
    "    # fig.savefig('time_vs_mse.eps', format='eps', bbox_inches='tight')\n",
    "    # plt.show()\n"
   ]
  },
  {
   "cell_type": "code",
   "execution_count": 7,
   "metadata": {},
   "outputs": [
    {
     "data": {
      "text/plain": [
       "array([0.01, 0.05, 0.1 , 0.2 , 0.3 , 0.4 , 0.5 ])"
      ]
     },
     "execution_count": 7,
     "metadata": {},
     "output_type": "execute_result"
    }
   ],
   "source": [
    "last_mean_dict = {}\n",
    "last_std_dict = {}\n",
    "for p in policies:\n",
    "    last_mean_dict[p] = []\n",
    "    last_std_dict[p] = []\n",
    "\n",
    "state_drop_rates = np.array(list(summary_json.keys()))\n",
    "for r in state_drop_rates:\n",
    "    for p in policies:\n",
    "        last_mean_dict[p].append(summary_json[r][p]['mean'][-1])\n",
    "        last_std_dict[p].append(summary_json[r][p]['std'][-1])\n",
    "sorted_idx = np.array(state_drop_rates).argsort()\n",
    "state_drop_rates[sorted_idx]"
   ]
  },
  {
   "cell_type": "code",
   "execution_count": 8,
   "metadata": {},
   "outputs": [
    {
     "name": "stderr",
     "output_type": "stream",
     "text": [
      "findfont: Font family ['Avenir'] not found. Falling back to DejaVu Sans.\n"
     ]
    },
    {
     "name": "stdout",
     "output_type": "stream",
     "text": [
      "(761.7982772211083, 2535.0733050451413)\n"
     ]
    },
    {
     "name": "stderr",
     "output_type": "stream",
     "text": [
      "The PostScript backend does not support transparency; partially transparent artists will be rendered opaque.\n"
     ]
    },
    {
     "data": {
      "image/png": "[encoded data removed]",
      "text/plain": [
       "<Figure size 720x360 with 2 Axes>"
      ]
     },
     "metadata": {
      "needs_background": "light"
     },
     "output_type": "display_data"
    }
   ],
   "source": [
    "fig, ax = plt.subplots(nrows = 1, ncols=1, figsize=(10,5))\n",
    "ax2 = ax.twinx()  # instantiate a second axes that shares the same x-axis\n",
    "policies = sorted(policies)\n",
    "i = 0\n",
    "locs = [\"upper left\", \"upper right\"]\n",
    "lll = ['-', '--']\n",
    "mmm = ['o','^', 'x', 's', 'd', '+']\n",
    "ccc = ['black', 'brown']\n",
    "cc = itertools.cycle(ccc)\n",
    "ll = itertools.cycle(lll)\n",
    "mm = itertools.cycle(mmm)\n",
    "\n",
    "time_lst_array = []\n",
    "for key in state_drop_rates[sorted_idx]:\n",
    "    time_lst_array.append(summary_json[key]['time_lst'])\n",
    "time_lst_array = np.array(time_lst_array)\n",
    "\n",
    "for metric, metric_dict in save_dict[list(save_dict.keys())[-1]].items():\n",
    "    linestyles = mpltex.linestyle_generator(colors=[],\n",
    "                                        lines=['-',':'],\n",
    "                                        markers=['o','^', 'x', 's'],\n",
    "                                        hollow_styles=[False, True],)\n",
    "    for policy in policies:\n",
    "        if policy !=\"Random\":\n",
    "            m = next(mm)\n",
    "            l = next(ll)\n",
    "            ax.plot(state_drop_rates[sorted_idx], \n",
    "                    np.array(last_mean_dict[policy])[sorted_idx], \n",
    "                        l,\n",
    "                        lw=1,\n",
    "                        label=f'{policy}', \n",
    "                            marker= m,\n",
    "                        color='black'\n",
    "                        # markevery=5\n",
    "                        )\n",
    "            mean = np.array(last_mean_dict[policy])[sorted_idx]\n",
    "            std = np.array(last_std_dict[policy])[sorted_idx]\n",
    "            n= 100\n",
    "            yerr = std / np.sqrt(n) * stats.t.ppf(1-0.05/2, n - 1)\n",
    "            bar1 = ax.errorbar(state_drop_rates[sorted_idx], \n",
    "                                y=mean, \n",
    "                                linestyle='', \n",
    "                                yerr=yerr,                         \n",
    "                                # label=f'{policy}', \n",
    "                                marker='', \n",
    "                                color='k', \n",
    "                                # markevery=10, \n",
    "                                capsize=4\n",
    "                                )\n",
    "            ax2.plot(state_drop_rates[sorted_idx], \n",
    "                    time_lst_array.mean(axis=-1), \n",
    "                        color='brown', \n",
    "                        marker='*', \n",
    "                        # markevery=5\n",
    "                        )\n",
    "            mean2 = time_lst_array.mean(axis=-1)\n",
    "            std2 = time_lst_array.std(axis=-1)\n",
    "            n2= n\n",
    "            yerr2 = std2 / np.sqrt(n2) * stats.t.ppf(1-0.05/2, n2 - 1)\n",
    "            bar2 = ax2.errorbar(state_drop_rates[sorted_idx], \n",
    "                                y=mean2, \n",
    "                                linestyle='', \n",
    "                                yerr=yerr2,                         \n",
    "                                # label=f'{policy}', \n",
    "                                marker='', \n",
    "                                color='brown', \n",
    "                                # markevery=10, \n",
    "                                capsize=4\n",
    "                                )\n",
    "            ax.set_title('')\n",
    "    ax.legend(loc=(0.063,0.8), ncol=3)\n",
    "    ax.set_xlabel(r'Exploit reduction rate ($r_{\\mathcal{E}}$)', labelpad=10)\n",
    "ax.set_ylim([0,1.2])\n",
    "print(ax2.get_ylim())\n",
    "ax2.set_ylim([140,300000])\n",
    "ax.set_ylabel('MSE', labelpad=10)\n",
    "ax2.set_ylabel('Computation Time', labelpad=10)\n",
    "ax2.set_yscale('log')\n",
    "ax2.spines['right'].set_color('brown')\n",
    "ax2.yaxis.label.set_color('brown')\n",
    "ax2.tick_params(axis='y', which=\"major\", colors='brown')\n",
    "ax2.tick_params(axis='y', which=\"minor\", colors='brown')\n",
    "\n",
    "ax.grid(which='minor', alpha=0.2)\n",
    "ax.grid(which='major', alpha=0.5)\n",
    "fig.savefig('action_reduction.eps', format='eps', bbox_inches='tight')\n"
   ]
  },
  {
   "cell_type": "markdown",
   "metadata": {},
   "source": []
  },
  {
   "cell_type": "code",
   "execution_count": 9,
   "metadata": {},
   "outputs": [
    {
     "data": {
      "text/plain": [
       "array([0.05568224, 0.03345541, 0.02772217, 0.02772217, 0.02772217,\n",
       "       0.02772217, 0.02772217])"
      ]
     },
     "execution_count": 9,
     "metadata": {},
     "output_type": "execute_result"
    }
   ],
   "source": [
    "yerr"
   ]
  },
  {
   "cell_type": "code",
   "execution_count": 10,
   "metadata": {},
   "outputs": [
    {
     "data": {
      "text/plain": [
       "array([0.69129245, 0.80860392, 0.82636364, 0.82636364, 0.82636364,\n",
       "       0.82636364, 0.82636364])"
      ]
     },
     "execution_count": 10,
     "metadata": {},
     "output_type": "execute_result"
    }
   ],
   "source": [
    "mean"
   ]
  },
  {
   "cell_type": "code",
   "execution_count": 11,
   "metadata": {},
   "outputs": [],
   "source": [
    "policy_dict = {}\n",
    "for policy_omega, rollouts in object_file['MSE'].items():\n",
    "    try:\n",
    "        policy_dict[policy_omega.split('_')[0]][policy_omega] = rollouts\n",
    "    except:\n",
    "        policy_dict[policy_omega.split('_')[0]] = {}\n",
    "        policy_dict[policy_omega.split('_')[0]][policy_omega] = rollouts"
   ]
  },
  {
   "cell_type": "code",
   "execution_count": 12,
   "metadata": {},
   "outputs": [],
   "source": [
    "diff_omega_dict ={}\n",
    "for metric in metrics_list:\n",
    "    diff_omega_dict[metric] = {}\n",
    "    for policy in policies_list:\n",
    "        diff_omega_dict[metric][policy] = []\n",
    "mistakes = []\n",
    "for omega in omega_list:\n",
    "    try:\n",
    "        mistakes.append(1 - float(omega))\n",
    "    except:\n",
    "        pass\n",
    "mistakes = np.sort(mistakes)\n",
    "for omega, metrics_dict in save_dict.items():\n",
    "    try:\n",
    "        for metric, policy_dict in metrics_dict.items():\n",
    "            for policy, value in policy_dict.items():\n",
    "                diff_omega_dict[metric][policy].append(np.concatenate([np.array([1 - float(omega)]), value[:,49]], axis = 0))#.mean())\n",
    "    except:\n",
    "        pass\n",
    "\n",
    "for metric in diff_omega_dict.keys():\n",
    "    for policy in diff_omega_dict[metric].keys():\n",
    "        diff_omega_dict[metric][policy] = np.array(diff_omega_dict[metric][policy])\n"
   ]
  },
  {
   "cell_type": "code",
   "execution_count": 13,
   "metadata": {},
   "outputs": [
    {
     "data": {
      "text/plain": [
       "(1, 101)"
      ]
     },
     "execution_count": 13,
     "metadata": {},
     "output_type": "execute_result"
    }
   ],
   "source": [
    "diff_omega_dict['MSE']['Bayes'].shape"
   ]
  },
  {
   "cell_type": "code",
   "execution_count": 14,
   "metadata": {},
   "outputs": [],
   "source": [
    "for metric, metric_dict in diff_omega_dict.items():\n",
    "    for policy, policy_np in metric_dict.items():\n",
    "        policy_np = np.array(policy_np)\n",
    "        diff_omega_dict[metric][policy] = policy_np[policy_np[:, 0].argsort()]\n"
   ]
  },
  {
   "cell_type": "code",
   "execution_count": 15,
   "metadata": {},
   "outputs": [
    {
     "name": "stderr",
     "output_type": "stream",
     "text": [
      "The PostScript backend does not support transparency; partially transparent artists will be rendered opaque.\n"
     ]
    },
    {
     "data": {
      "image/png": "[encoded data removed]",
      "text/plain": [
       "<Figure size 1440x360 with 2 Axes>"
      ]
     },
     "metadata": {
      "needs_background": "light"
     },
     "output_type": "display_data"
    }
   ],
   "source": [
    "fig, ax = plt.subplots(nrows = 1, ncols=2, figsize=(20,5))\n",
    "\n",
    "i = 0\n",
    "\n",
    "locs = [\"upper left\", \"upper right\"]\n",
    "for metric, metric_dict in diff_omega_dict.items():\n",
    "    for policy, val in metric_dict.items():\n",
    "        ax[i].plot(val[:,0], \n",
    "                    val[:,1:].mean(axis=1), \n",
    "                    lw=2,\n",
    "                    label=f'{policy}', \n",
    "                    **next(linestyles),\n",
    "                    markevery=1\n",
    "                    )\n",
    "        ax[i].set_title('')\n",
    "        ax[i].set_xscale('log')\n",
    "        ax[i].legend(loc=locs[i])\n",
    "        ax[i].set_xlabel('Uncertainty of investigation ($log(1-\\omega)$)', labelpad=10)\n",
    "        ax[i].set_ylabel('MSE', labelpad=10)\n",
    "    if i == 0:\n",
    "        ax[i].set_ylabel('MSE', labelpad=10)\n",
    "    else:\n",
    "        ax[i].set_ylabel('Entropy', labelpad=10)\n",
    "\n",
    "    i += 1\n",
    "\n",
    "fig.savefig('1-omega_vs_entropy.eps', format='eps', bbox_inches='tight')\n",
    "plt.show()\n"
   ]
  },
  {
   "cell_type": "code",
   "execution_count": 16,
   "metadata": {},
   "outputs": [
    {
     "data": {
      "text/plain": [
       "['0.9999999999999998']"
      ]
     },
     "execution_count": 16,
     "metadata": {},
     "output_type": "execute_result"
    }
   ],
   "source": [
    "list(save_dict.keys())"
   ]
  },
  {
   "cell_type": "code",
   "execution_count": 17,
   "metadata": {},
   "outputs": [
    {
     "ename": "IndexError",
     "evalue": "list index out of range",
     "output_type": "error",
     "traceback": [
      "\u001b[0;31m---------------------------------------------------------------------------\u001b[0m",
      "\u001b[0;31mIndexError\u001b[0m                                Traceback (most recent call last)",
      "\u001b[0;32m/tmp/ipykernel_540259/825182420.py\u001b[0m in \u001b[0;36m<module>\u001b[0;34m\u001b[0m\n\u001b[0;32m----> 1\u001b[0;31m \u001b[0momegas\u001b[0m \u001b[0;34m=\u001b[0m \u001b[0;34m[\u001b[0m\u001b[0mlist\u001b[0m\u001b[0;34m(\u001b[0m\u001b[0msave_dict\u001b[0m\u001b[0;34m.\u001b[0m\u001b[0mkeys\u001b[0m\u001b[0;34m(\u001b[0m\u001b[0;34m)\u001b[0m\u001b[0;34m)\u001b[0m\u001b[0;34m[\u001b[0m\u001b[0;34m-\u001b[0m\u001b[0;36m1\u001b[0m\u001b[0;34m]\u001b[0m\u001b[0;34m,\u001b[0m \u001b[0mlist\u001b[0m\u001b[0;34m(\u001b[0m\u001b[0msave_dict\u001b[0m\u001b[0;34m.\u001b[0m\u001b[0mkeys\u001b[0m\u001b[0;34m(\u001b[0m\u001b[0;34m)\u001b[0m\u001b[0;34m)\u001b[0m\u001b[0;34m[\u001b[0m\u001b[0;36m2\u001b[0m\u001b[0;34m]\u001b[0m\u001b[0;34m]\u001b[0m\u001b[0;34m\u001b[0m\u001b[0;34m\u001b[0m\u001b[0m\n\u001b[0m",
      "\u001b[0;31mIndexError\u001b[0m: list index out of range"
     ]
    }
   ],
   "source": [
    "omegas = [list(save_dict.keys())[-1], list(save_dict.keys())[2]]"
   ]
  },
  {
   "cell_type": "code",
   "execution_count": null,
   "metadata": {},
   "outputs": [],
   "source": [
    "subset_policy = policies\n",
    "del subset_policy[-1]"
   ]
  },
  {
   "cell_type": "code",
   "execution_count": null,
   "metadata": {},
   "outputs": [],
   "source": [
    "policies = [\"No Investigation\", \"MinFP\", \"Random\",  \"Bayes\", \"MaxEntropy\",\"All\"]\n",
    "policies = sorted(policies)"
   ]
  },
  {
   "cell_type": "code",
   "execution_count": null,
   "metadata": {},
   "outputs": [
    {
     "data": {
      "text/plain": [
       "['All', 'Bayes', 'MaxEntropy', 'MinFP', 'No Investigation', 'Random']"
      ]
     },
     "execution_count": 17,
     "metadata": {},
     "output_type": "execute_result"
    }
   ],
   "source": [
    "policies"
   ]
  },
  {
   "cell_type": "code",
   "execution_count": null,
   "metadata": {},
   "outputs": [
    {
     "name": "stdout",
     "output_type": "stream",
     "text": [
      "All\n",
      "Bayes\n",
      "MaxEntropy\n",
      "MinFP\n",
      "No Investigation\n",
      "Random\n",
      "All\n",
      "Bayes\n",
      "MaxEntropy\n",
      "MinFP\n",
      "No Investigation\n",
      "Random\n"
     ]
    },
    {
     "name": "stderr",
     "output_type": "stream",
     "text": [
      "The PostScript backend does not support transparency; partially transparent artists will be rendered opaque.\n"
     ]
    },
    {
     "data": {
      "image/png": "[encoded data removed]",
      "text/plain": [
       "<Figure size 720x324 with 1 Axes>"
      ]
     },
     "metadata": {
      "needs_background": "light"
     },
     "output_type": "display_data"
    }
   ],
   "source": [
    "fig, ax = plt.subplots(nrows = 1, ncols=1, figsize=(10,4.5))\n",
    "\n",
    "i = 0\n",
    "locs = [\"upper center\", \"upper right\"]\n",
    "lll = ['-', '--']\n",
    "mmm = ['o','^', 'x', 's', 'd', '+']\n",
    "ccc = ['black', 'tab:red']\n",
    "cc = itertools.cycle(ccc)\n",
    "ll = itertools.cycle(lll)\n",
    "mm = itertools.cycle(mmm)\n",
    "\n",
    "for omega in omegas:\n",
    "    c = next(cc)\n",
    "    for policy in sorted(policies):\n",
    "        if policy != '':\n",
    "            # print(policy)\n",
    "            m = next(mm)\n",
    "            l = next(ll)\n",
    "            \n",
    "            rollouts = save_dict[omega]['MSE'][policy]\n",
    "\n",
    "            ax.plot(rollouts.mean(axis=0)[:50], \n",
    "                        l,\n",
    "                        lw=1,\n",
    "                        label=f'{policy}', \n",
    "                        marker= m,\n",
    "                        color= c,\n",
    "                        markevery=100\n",
    "                        )\n",
    "            ax.set_title('')\n",
    "    # ax.legend(loc=locs[i], ncol=3)\n",
    "    ax.set_xlabel('Step (t)', labelpad=10)\n",
    "    ax.set_ylabel('MSE', labelpad=10)\n",
    "    ax.set_ylim([0, 2])\n",
    "\n",
    "    i += 1\n",
    "\n",
    "lines = ax.get_lines()\n",
    "legend1 = pyplot.legend([lines[i] for i in [0,1,2,3,4,5]], policies, ncol = 3, loc=\"upper center\")\n",
    "ax.add_artist(legend1)\n",
    "for l in lines:\n",
    "    l.set_marker('')\n",
    "legend2 = pyplot.legend([lines[i] for i in [0,6] ], [\"$\\omega$=0\", \"$\\omega$=0.05\"], loc=(0.065,0.5))\n",
    "ax.add_artist(legend2)\n",
    "for i, line in enumerate(lines):\n",
    "    m = next(mm)\n",
    "    line.set_marker(m)\n",
    "\n",
    "for omega in omegas:\n",
    "    cnt = 0\n",
    "    c = next(cc)\n",
    "    for policy in sorted(policies):\n",
    "        if policy != '':\n",
    "            print(policy)\n",
    "            m = next(mm)\n",
    "            l = next(ll)\n",
    "            \n",
    "            rollouts = save_dict[omega]['MSE'][policy]\n",
    "            \n",
    "            mean = rollouts.mean(axis = 0)\n",
    "            std = rollouts.std(axis = 0)\n",
    "            n= rollouts.shape[0]\n",
    "            yerr = std / np.sqrt(n) * stats.t.ppf(1-0.05/2, n - 1)\n",
    "\n",
    "            for i in range(mean.shape[0]):\n",
    "                \n",
    "                if (i+cnt)%(10) == 0:\n",
    "                    bar1 = plt.errorbar(i, \n",
    "                                        y=mean[i], \n",
    "                                        # linestyle=':', \n",
    "                                        yerr=yerr[i],                         \n",
    "                                        # label=f'{policy}', \n",
    "                                        marker=m, \n",
    "                                        color=c, \n",
    "                                        # markevery=10, \n",
    "                                        capsize=4\n",
    "                                        )\n",
    "            cnt += 1\n",
    "fig.savefig('time_vs_mse.eps', format='eps', bbox_inches='tight')\n",
    "plt.show()\n"
   ]
  },
  {
   "cell_type": "code",
   "execution_count": null,
   "metadata": {},
   "outputs": [],
   "source": [
    "temp = diff_omega_dict['MSE']['No Investigation'][0,:].copy()\n",
    "temp[0] = 0.5"
   ]
  },
  {
   "cell_type": "code",
   "execution_count": null,
   "metadata": {},
   "outputs": [],
   "source": [
    "for k, np_array in diff_omega_dict['MSE'].items():\n",
    "    diff_omega_dict['MSE'][k] = np.concatenate([temp.reshape(1,-1), np_array], axis=0)"
   ]
  },
  {
   "cell_type": "code",
   "execution_count": null,
   "metadata": {},
   "outputs": [],
   "source": [
    "for k, np_array in diff_omega_dict['MSE'].items():\n",
    "    diff_omega_dict['MSE'][k] = np_array[np.argsort(np_array[:,0])]\n",
    "    "
   ]
  },
  {
   "cell_type": "code",
   "execution_count": null,
   "metadata": {},
   "outputs": [
    {
     "name": "stdout",
     "output_type": "stream",
     "text": [
      "[0.e+00 1.e-06 1.e-05 1.e-04 1.e-03 1.e-02 5.e-02 1.e-01 5.e-01 5.e-01]\n",
      "[0.e+00 1.e-06 1.e-05 1.e-04 1.e-03 1.e-02 5.e-02 1.e-01 5.e-01 5.e-01]\n",
      "[0.e+00 1.e-06 1.e-05 1.e-04 1.e-03 1.e-02 5.e-02 1.e-01 5.e-01 5.e-01]\n",
      "[0.e+00 1.e-06 1.e-05 1.e-04 1.e-03 1.e-02 5.e-02 1.e-01 5.e-01 5.e-01]\n",
      "[0.e+00 1.e-06 1.e-05 1.e-04 1.e-03 1.e-02 5.e-02 1.e-01 5.e-01 5.e-01]\n"
     ]
    },
    {
     "name": "stderr",
     "output_type": "stream",
     "text": [
      "The PostScript backend does not support transparency; partially transparent artists will be rendered opaque.\n"
     ]
    },
    {
     "data": {
      "image/png": "[encoded data removed]",
      "text/plain": [
       "<Figure size 720x324 with 1 Axes>"
      ]
     },
     "metadata": {
      "needs_background": "light"
     },
     "output_type": "display_data"
    }
   ],
   "source": [
    "fig, ax = plt.subplots(nrows = 1, ncols=1, figsize=(10,4.5))\n",
    "\n",
    "i = 0\n",
    "\n",
    "locs = [\"upper center\", \"upper right\"]\n",
    "l = ['-', '--']\n",
    "m = ['o','^', 'x', 's', 'd', '+']\n",
    "c = ['black', 'brown']\n",
    "cc = itertools.cycle(c)\n",
    "ll = itertools.cycle(l)\n",
    "mm = itertools.cycle(m)\n",
    "for metric, metric_dict in diff_omega_dict.items():\n",
    "    for policy in policies:\n",
    "        if policy != 'Random':\n",
    "            m = next(mm)    \n",
    "            l = next(ll)\n",
    "            val = diff_omega_dict[metric][policy]\n",
    "            ax.plot(val[:,0], \n",
    "                    val[:,1:].mean(axis=1), \n",
    "                    l,\n",
    "                    lw=1,\n",
    "                    label=f'{policy}', \n",
    "                    marker = m,\n",
    "                    color = 'black',\n",
    "                    markevery=1\n",
    "                    )\n",
    "            ax.set_title('')\n",
    "            ax.set_xscale('log')\n",
    "            ax.legend(loc=locs[i], ncol=3)\n",
    "            ax.set_xlabel('The investigation error probability ($log(\\omega)$)', labelpad=10)\n",
    "\n",
    "            \n",
    "\n",
    "    if i == 0:\n",
    "        ax.set_ylabel('MSE', labelpad=10)\n",
    "        ax.set_ylim([0.1, 0.7])\n",
    "    else:\n",
    "        ax.set_ylabel('Entropy', labelpad=10)\n",
    "\n",
    "    i += 1\n",
    "\n",
    "lines = ax.get_lines()\n",
    "legend1 = pyplot.legend([lines[i] for i in [0,1,2,3,4]], subset_policy, ncol = 3, loc=\"upper center\")\n",
    "ax.add_artist(legend1)\n",
    "\n",
    "up_marker = ['_', \"1\"]\n",
    "down_marker = ['_', \"2\"]\n",
    "up = itertools.cycle(up_marker)\n",
    "down = itertools.cycle(down_marker)\n",
    "for metric, metric_dict in diff_omega_dict.items():\n",
    "    for policy in policies:\n",
    "        if policy != 'Random':\n",
    "            u = next(up)    \n",
    "            d = next(down)\n",
    "            val = diff_omega_dict[metric][policy]\n",
    "            mean = val[:,1:].mean(axis=1)\n",
    "            std = val.std(axis = 1)\n",
    "            n= val.shape[1]\n",
    "            yerr = std / np.sqrt(n) * stats.t.ppf(1-0.05/2, n - 1)\n",
    "            x = val[:,0]\n",
    "            x[0] = 0\n",
    "            print(x)\n",
    "            bar1 = plt.errorbar(x, \n",
    "                                y=mean, \n",
    "                                linestyle='', \n",
    "                                yerr=yerr,                         \n",
    "                                # label=f'{policy}', \n",
    "                                # marker=m, \n",
    "                                color='black', \n",
    "                                # markevery=10, \n",
    "                                capsize=0\n",
    "                                )\n",
    "            \n",
    "            plt.plot(x,mean+yerr, marker=u, ls=\"\", color=\"black\", ms=10)\n",
    "            plt.plot(x,mean-yerr, marker=d, ls=\"\", color=\"black\", ms=10)\n",
    "fig.savefig('1-omega_vs_mse.eps', format='eps', bbox_inches='tight')\n",
    "plt.show()\n"
   ]
  },
  {
   "cell_type": "code",
   "execution_count": null,
   "metadata": {},
   "outputs": [
    {
     "data": {
      "text/plain": [
       "20"
      ]
     },
     "execution_count": 23,
     "metadata": {},
     "output_type": "execute_result"
    }
   ],
   "source": [
    "len(ax.get_lines())"
   ]
  },
  {
   "cell_type": "code",
   "execution_count": null,
   "metadata": {},
   "outputs": [
    {
     "data": {
      "text/plain": [
       "Text(0.5, 0, 'Uncertainty of investigation ($\\\\omega$)')"
      ]
     },
     "execution_count": 24,
     "metadata": {},
     "output_type": "execute_result"
    },
    {
     "data": {
      "image/png": "[encoded data removed]",
      "text/plain": [
       "<Figure size 720x360 with 1 Axes>"
      ]
     },
     "metadata": {
      "needs_background": "light"
     },
     "output_type": "display_data"
    }
   ],
   "source": [
    "fig, ax = plt.subplots(nrows = 1, ncols=1, figsize=(10,5))\n",
    "\n",
    "ax.plot(diff_omega_dict['MSE']['All'][:,0], \n",
    "            np.exp(diff_omega_dict['MSE']['All'][:,1])\n",
    "            )\n",
    "ax.set_ylabel('MSE', labelpad=10)\n",
    "ax.set_xlabel('Uncertainty of investigation ($\\omega$)', labelpad=10)\n"
   ]
  },
  {
   "cell_type": "code",
   "execution_count": null,
   "metadata": {},
   "outputs": [
    {
     "data": {
      "text/plain": [
       "array([1.e-06, 1.e-05, 1.e-04, 1.e-03, 1.e-02, 5.e-02])"
      ]
     },
     "execution_count": 25,
     "metadata": {},
     "output_type": "execute_result"
    }
   ],
   "source": [
    "diff_omega_dict['MSE']['All'][:,0][1:-3]"
   ]
  },
  {
   "cell_type": "code",
   "execution_count": null,
   "metadata": {},
   "outputs": [
    {
     "data": {
      "image/png": "[encoded data removed]",
      "text/plain": [
       "<Figure size 432x288 with 1 Axes>"
      ]
     },
     "metadata": {
      "needs_background": "light"
     },
     "output_type": "display_data"
    }
   ],
   "source": [
    "import matplotlib.pyplot as plt\n",
    "import numpy\n",
    "\n",
    "df = numpy.array([[\n",
    "    0.1, 0.3, 10, 3.13, 14.2], [\n",
    "    0.3, 0.6, 40, -0.1, 12.98], [\n",
    "    0.6, 0.9, 31, 1.8, 12.59], [\n",
    "    0.9, 1.2, 4, 0.42, 1.42]])\n",
    "\n",
    "bar1 = plt.errorbar(df[:, 0], y=df[:, 3], yerr=df[:, 4], marker='o', linestyle='', capsize=100)\n",
    "\n",
    "\n",
    "xx = bar1.lines[0].get_xdata()\n",
    "yy = bar1.lines[0].get_ydata()\n",
    "for i in range(len(xx)):\n",
    "    plt.text(x=xx[i], y=yy[i] + .1, s=str(df[:, 2][i]))\n",
    "    i += 1\n",
    "plt.show()\n"
   ]
  },
  {
   "cell_type": "code",
   "execution_count": null,
   "metadata": {},
   "outputs": [],
   "source": []
  }
 ],
 "metadata": {
  "interpreter": {
   "hash": "edd1b86ea2ddf86452728e0f6674eb6362019c4a05954ee41ba78a6ff6d3b26d"
  },
  "kernelspec": {
   "display_name": "Python 3.9.7 ('py39')",
   "language": "python",
   "name": "python3"
  },
  "language_info": {
   "codemirror_mode": {
    "name": "ipython",
    "version": 3
   },
   "file_extension": ".py",
   "mimetype": "text/x-python",
   "name": "python",
   "nbconvert_exporter": "python",
   "pygments_lexer": "ipython3",
   "version": "3.9.7"
  },
  "orig_nbformat": 4
 },
 "nbformat": 4,
 "nbformat_minor": 2
}

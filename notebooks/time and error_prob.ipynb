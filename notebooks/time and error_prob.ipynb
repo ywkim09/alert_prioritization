{
 "cells": [
  {
   "cell_type": "code",
   "execution_count": null,
   "metadata": {},
   "outputs": [],
   "source": [
    "import pickle\n",
    "import numpy as np\n",
    "import matplotlib.pyplot as plt\n",
    "import matplotlib as mpl\n",
    "import numpy as np\n",
    "from pylab import cm\n",
    "import mpltex\n",
    "import itertools\n",
    "from matplotlib import pyplot\n",
    "from scipy import stats\n",
    "\n",
    "plt.rcParams['pdf.fonttype'] = 42\n",
    "plt.rcParams['ps.fonttype'] = 42\n",
    "mpl.rcParams['font.family'] = 'Avenir'\n",
    "plt.rcParams['font.size'] = 16\n",
    "plt.rcParams['axes.linewidth'] = 2"
   ]
  },
  {
   "cell_type": "code",
   "execution_count": null,
   "metadata": {},
   "outputs": [],
   "source": [
    "# policies = [\"No Investigation\", \"MinFP\", \"Random\",  \"Bayes\", \"MaxEntropy\",\"All\"]\n",
    "\n",
    "file = open(\"result_0.3_[1].pkl\",'rb')\n",
    "object_file = pickle.load(file)\n",
    "file.close()\n"
   ]
  },
  {
   "cell_type": "code",
   "execution_count": null,
   "metadata": {},
   "outputs": [],
   "source": [
    "temp = {}\n",
    "for k,v in object_file.items(): \n",
    "    temp[k] ={}\n",
    "    for k2,v2 in v.items():\n",
    "        if k2.split('_')[0] == \"LowFP\":\n",
    "            temp[k]['MinFP_'+ k2.split('_')[1]] = v2\n",
    "        elif k2.split('_')[0] == \"No investigation\":\n",
    "            temp[k]['No Investigation_'+ k2.split('_')[1]] = v2\n",
    "        else:\n",
    "            temp[k][k2] = v2\n",
    "object_file = temp"
   ]
  },
  {
   "cell_type": "markdown",
   "metadata": {},
   "source": []
  },
  {
   "cell_type": "code",
   "execution_count": null,
   "metadata": {},
   "outputs": [],
   "source": [
    "save_dict = {}\n",
    "policies_list = []\n",
    "metrics_list = []\n",
    "omega_list = []\n",
    "for metric, v in object_file.items():\n",
    "    for k2, v2 in v.items():\n",
    "        policy = k2.split('_')[0] \n",
    "        omega = k2.split('_')[1]\n",
    "        omega_list.append(omega)\n",
    "        save_dict[omega] = {}\n",
    "\n",
    "for metric, v in object_file.items():\n",
    "    metrics_list.append(metric)\n",
    "    for k,v in save_dict.items():\n",
    "        save_dict[k][metric] = {}\n",
    "\n",
    "for metric, v in object_file.items():\n",
    "    for k2, v2 in v.items():\n",
    "        policy = k2.split('_')[0] \n",
    "        if policy not in policies_list:\n",
    "            policies_list.append(policy)\n",
    "        omega = k2.split('_')[1]\n",
    "        try:\n",
    "            save_dict[omega][metric][policy] = v2\n",
    "        except:\n",
    "            save_dict[omega][metric] = {}\n",
    "            save_dict[omega][metric][policy] = v2\n",
    "policies_list = np.unique(policies_list)\n",
    "omega_list = list(set(omega_list))\n"
   ]
  },
  {
   "cell_type": "code",
   "execution_count": null,
   "metadata": {},
   "outputs": [],
   "source": [
    "policies = sorted(policies_list)"
   ]
  },
  {
   "cell_type": "code",
   "execution_count": null,
   "metadata": {},
   "outputs": [],
   "source": [
    "policies"
   ]
  },
  {
   "cell_type": "code",
   "execution_count": null,
   "metadata": {},
   "outputs": [],
   "source": [
    "fig, ax = plt.subplots(nrows = 1, ncols=2, figsize=(20,5))\n",
    "\n",
    "i = 0\n",
    "locs = [\"upper left\", \"upper right\"]\n",
    "for metric, metric_dict in save_dict[omega_list[-1]].items():\n",
    "    linestyles = mpltex.linestyle_generator(colors=[],\n",
    "                                        lines=['-',':'],\n",
    "                                        markers=['o','^', 'x', 's'],\n",
    "                                        hollow_styles=[False, True],)\n",
    "    for policy in metric_dict:\n",
    "        rollouts = save_dict[omega_list[-1]][metric][policy]\n",
    "        ax[i].plot(rollouts.mean(axis=0), \n",
    "                    lw=2,\n",
    "                    label=f'{policy}', \n",
    "                    **next(linestyles),\n",
    "                    markevery=5\n",
    "                    )\n",
    "        ax[i].set_title('')\n",
    "    ax[i].legend(loc=locs[i])\n",
    "    ax[i].set_xlabel('Step (t)', labelpad=10)\n",
    "    if i == 0:\n",
    "        ax[i].set_ylabel('MSE', labelpad=10)\n",
    "    else:\n",
    "        ax[i].set_ylabel('Entropy', labelpad=10)\n",
    "\n",
    "    i += 1\n",
    "\n",
    "fig.savefig('time_vs_mse.eps', format='eps', bbox_inches='tight')\n",
    "plt.show()\n"
   ]
  },
  {
   "cell_type": "markdown",
   "metadata": {},
   "source": []
  },
  {
   "cell_type": "code",
   "execution_count": null,
   "metadata": {},
   "outputs": [],
   "source": [
    "policy_dict = {}\n",
    "for policy_omega, rollouts in object_file['MSE'].items():\n",
    "    try:\n",
    "        policy_dict[policy_omega.split('_')[0]][policy_omega] = rollouts\n",
    "    except:\n",
    "        policy_dict[policy_omega.split('_')[0]] = {}\n",
    "        policy_dict[policy_omega.split('_')[0]][policy_omega] = rollouts"
   ]
  },
  {
   "cell_type": "code",
   "execution_count": null,
   "metadata": {},
   "outputs": [],
   "source": [
    "diff_omega_dict ={}\n",
    "for metric in metrics_list:\n",
    "    diff_omega_dict[metric] = {}\n",
    "    for policy in policies_list:\n",
    "        diff_omega_dict[metric][policy] = []\n",
    "mistakes = []\n",
    "for omega in omega_list:\n",
    "    try:\n",
    "        mistakes.append(1 - float(omega))\n",
    "    except:\n",
    "        pass\n",
    "mistakes = np.sort(mistakes)\n",
    "for omega, metrics_dict in save_dict.items():\n",
    "    try:\n",
    "        for metric, policy_dict in metrics_dict.items():\n",
    "            for policy, value in policy_dict.items():\n",
    "                diff_omega_dict[metric][policy].append(np.concatenate([np.array([1 - float(omega)]), value[:,49]], axis = 0))#.mean())\n",
    "    except:\n",
    "        pass\n",
    "\n",
    "for metric in diff_omega_dict.keys():\n",
    "    for policy in diff_omega_dict[metric].keys():\n",
    "        diff_omega_dict[metric][policy] = np.array(diff_omega_dict[metric][policy])\n"
   ]
  },
  {
   "cell_type": "code",
   "execution_count": null,
   "metadata": {},
   "outputs": [],
   "source": [
    "diff_omega_dict['MSE']['Bayes'].shape"
   ]
  },
  {
   "cell_type": "code",
   "execution_count": null,
   "metadata": {},
   "outputs": [],
   "source": [
    "for metric, metric_dict in diff_omega_dict.items():\n",
    "    for policy, policy_np in metric_dict.items():\n",
    "        policy_np = np.array(policy_np)\n",
    "        diff_omega_dict[metric][policy] = policy_np[policy_np[:, 0].argsort()]\n"
   ]
  },
  {
   "cell_type": "code",
   "execution_count": null,
   "metadata": {},
   "outputs": [],
   "source": [
    "fig, ax = plt.subplots(nrows = 1, ncols=2, figsize=(20,5))\n",
    "\n",
    "i = 0\n",
    "\n",
    "locs = [\"upper left\", \"upper right\"]\n",
    "for metric, metric_dict in diff_omega_dict.items():\n",
    "    for policy, val in metric_dict.items():\n",
    "        print(policy, val[:,1:].mean(axis=1))\n",
    "        ax[i].plot(val[:,0], \n",
    "                    val[:,1:].mean(axis=1), \n",
    "                    lw=2,\n",
    "                    label=f'{policy}', \n",
    "                    **next(linestyles),\n",
    "                    markevery=1\n",
    "                    )\n",
    "        ax[i].set_title('')\n",
    "        ax[i].set_xscale('log')\n",
    "        ax[i].legend(loc=locs[i])\n",
    "        ax[i].set_xlabel('Uncertainty of investigation ($log(1-\\omega)$)', labelpad=10)\n",
    "        ax[i].set_ylabel('MSE', labelpad=10)\n",
    "    if i == 0:\n",
    "        ax[i].set_ylabel('MSE', labelpad=10)\n",
    "    else:\n",
    "        ax[i].set_ylabel('Entropy', labelpad=10)\n",
    "\n",
    "    i += 1\n",
    "\n",
    "fig.savefig('1-omega_vs_entropy.eps', format='eps', bbox_inches='tight')\n",
    "plt.show()\n"
   ]
  },
  {
   "cell_type": "code",
   "execution_count": null,
   "metadata": {},
   "outputs": [],
   "source": [
    "omega_list"
   ]
  },
  {
   "cell_type": "code",
   "execution_count": null,
   "metadata": {},
   "outputs": [],
   "source": [
    "omega_list = np.array(omega_list)"
   ]
  },
  {
   "cell_type": "code",
   "execution_count": null,
   "metadata": {},
   "outputs": [],
   "source": [
    "omega = np.array(omega_list, dtype=np.float32)\n",
    "omega_list = omega_list[omega.argsort()]"
   ]
  },
  {
   "cell_type": "code",
   "execution_count": null,
   "metadata": {},
   "outputs": [],
   "source": [
    "omegas = omega_list[-2:][::-1]\n"
   ]
  },
  {
   "cell_type": "code",
   "execution_count": null,
   "metadata": {},
   "outputs": [],
   "source": [
    "subset_policy = policies\n"
   ]
  },
  {
   "cell_type": "code",
   "execution_count": null,
   "metadata": {},
   "outputs": [],
   "source": [
    "omegas"
   ]
  },
  {
   "cell_type": "code",
   "execution_count": null,
   "metadata": {},
   "outputs": [],
   "source": [
    "omega_list"
   ]
  },
  {
   "cell_type": "code",
   "execution_count": null,
   "metadata": {},
   "outputs": [],
   "source": [
    "fig, ax = plt.subplots(nrows = 1, ncols=1, figsize=(10,5))\n",
    "\n",
    "i = 0\n",
    "locs = [\"upper center\", \"upper right\"]\n",
    "lll = ['-', '--']\n",
    "mmm = ['o','^', 'x', 's', 'd', '+'][:len(policies)]\n",
    "ccc = ['black', 'brown']\n",
    "cc = itertools.cycle(ccc)\n",
    "ll = itertools.cycle(lll)\n",
    "mm = itertools.cycle(mmm)\n",
    "\n",
    "for omega in omegas:\n",
    "    c = next(cc)\n",
    "    for policy in sorted(policies):\n",
    "        if policy != '':\n",
    "            # print(policy)\n",
    "            m = next(mm)\n",
    "            l = next(ll)\n",
    "            \n",
    "            rollouts = save_dict[omega]['MSE'][policy]\n",
    "            print(policy, omega, rollouts.mean(axis = 0)[-1])\n",
    "            ax.plot(rollouts.mean(axis = 0)[:50], \n",
    "                        l,\n",
    "                        lw=1,\n",
    "                        label=f'{policy}', \n",
    "                        marker= m,\n",
    "                        color= c,\n",
    "                        markevery=100\n",
    "                        )\n",
    "            ax.set_title('')\n",
    "    # ax.legend(loc=locs[i], ncol=3)\n",
    "    ax.set_xlabel('Step (t)', labelpad=10)\n",
    "    ax.set_ylabel('MSE', labelpad=10)\n",
    "    ax.set_ylim([0, 0.7])\n",
    "    \n",
    "    i += 1\n",
    "\n",
    "lines = ax.get_lines()\n",
    "legend1 = pyplot.legend([lines[i] for i in range(len(policies))], policies, ncol = 3, loc=\"upper center\")\n",
    "ax.add_artist(legend1)\n",
    "for l in lines:\n",
    "    l.set_marker('')\n",
    "legend2 = pyplot.legend([lines[i] for i in [0,len(policies)] ], [\"$\\omega$=0\", \"$\\omega$=0.05\"], loc=(0.06,0.55))\n",
    "ax.add_artist(legend2)\n",
    "for i, line in enumerate(lines):\n",
    "    m = next(mm)\n",
    "    line.set_marker(m)\n",
    "\n",
    "for omega in omegas:\n",
    "    cnt = 0\n",
    "    c = next(cc)\n",
    "    for policy in sorted(policies):\n",
    "        if policy != '':\n",
    "            print(policy)\n",
    "            m = next(mm)\n",
    "            l = next(ll)\n",
    "            \n",
    "            rollouts = save_dict[omega]['MSE'][policy]\n",
    "            \n",
    "            mean = rollouts.mean(axis = 0)\n",
    "            std = rollouts.std(axis = 0)\n",
    "            n= rollouts.shape[0]\n",
    "            yerr = std / np.sqrt(n) * stats.t.ppf(1-0.05/2, n - 1)\n",
    "\n",
    "            for i in range(mean.shape[0]):\n",
    "                \n",
    "                if (i+cnt)%(10) == 0:\n",
    "                    bar1 = plt.errorbar(i, \n",
    "                                        y=mean[i], \n",
    "                                        # linestyle=':', \n",
    "                                        yerr=yerr[i],                         \n",
    "                                        # label=f'{policy}', \n",
    "                                        marker=m, \n",
    "                                        color=c, \n",
    "                                        # markevery=10, \n",
    "                                        capsize=4\n",
    "                                        )\n",
    "            cnt += 1\n",
    "fig.savefig('time_vs_mse.eps', format='eps', bbox_inches='tight')\n",
    "plt.show()\n"
   ]
  },
  {
   "cell_type": "code",
   "execution_count": null,
   "metadata": {},
   "outputs": [],
   "source": [
    "del diff_omega_dict['Entropy']"
   ]
  },
  {
   "cell_type": "code",
   "execution_count": null,
   "metadata": {},
   "outputs": [],
   "source": [
    "# temp = diff_omega_dict['MSE']['No Investigation'][0,:].copy()\n",
    "# temp[0] = 0.5"
   ]
  },
  {
   "cell_type": "code",
   "execution_count": null,
   "metadata": {},
   "outputs": [],
   "source": [
    "# for k, np_array in diff_omega_dict['MSE'].items():\n",
    "#     diff_omega_dict['MSE'][k] = np.concatenate([temp.reshape(1,-1), np_array], axis=0)"
   ]
  },
  {
   "cell_type": "code",
   "execution_count": null,
   "metadata": {},
   "outputs": [],
   "source": [
    "for k, np_array in diff_omega_dict['MSE'].items():\n",
    "    diff_omega_dict['MSE'][k] = np_array[np.argsort(np_array[:,0])]\n",
    "    "
   ]
  },
  {
   "cell_type": "code",
   "execution_count": null,
   "metadata": {},
   "outputs": [],
   "source": [
    "fig, ax = plt.subplots(nrows = 1, ncols=1, figsize=(10,5))\n",
    "\n",
    "i = 0\n",
    "\n",
    "locs = [\"upper center\", \"upper right\"]\n",
    "l = ['-', '--']\n",
    "m = ['o','^', 'x', 's', 'd', '+']\n",
    "c = ['black', 'brown']\n",
    "cc = itertools.cycle(c)\n",
    "ll = itertools.cycle(l)\n",
    "mm = itertools.cycle(m)\n",
    "for metric, metric_dict in diff_omega_dict.items():\n",
    "    for policy in metric_dict:\n",
    "        if policy != 'Random':\n",
    "            m = next(mm)    \n",
    "            l = next(ll)\n",
    "            val = metric_dict[policy]\n",
    "            print(policy, val[:,1:].mean(axis=1))\n",
    "            ax.plot(val[:,0], \n",
    "                    val[:,1:].mean(axis=1), \n",
    "                    l,\n",
    "                    lw=1,\n",
    "                    label=f'{policy}', \n",
    "                    marker = m,\n",
    "                    color = 'black',\n",
    "                    markevery=1\n",
    "                    )\n",
    "            ax.set_title('')\n",
    "            ax.set_xscale('log')\n",
    "            ax.legend(loc=locs[i], ncol=3)\n",
    "            ax.set_xlabel('The investigation error probability ($log(\\omega)$)', labelpad=10)\n",
    "\n",
    "            \n",
    "\n",
    "    if i == 0:\n",
    "        ax.set_ylabel('MSE', labelpad=10)\n",
    "        ax.set_ylim([0.1, 0.7])\n",
    "    else:\n",
    "        ax.set_ylabel('Entropy', labelpad=10)\n",
    "\n",
    "    i += 1\n",
    "\n",
    "lines = ax.get_lines()\n",
    "# legend1 = pyplot.legend([lines[i] for i in [0,1,2,3,4]], subset_policy, ncol = 3, loc=\"upper center\")\n",
    "# ax.add_artist(legend1)\n",
    "\n",
    "up_marker = ['_', \"1\"]\n",
    "down_marker = ['_', \"2\"]\n",
    "up = itertools.cycle(up_marker)\n",
    "down = itertools.cycle(down_marker)\n",
    "for metric, metric_dict in diff_omega_dict.items():\n",
    "    for policy in metric_dict:\n",
    "        if policy != 'Random':\n",
    "            u = next(up)    \n",
    "            d = next(down)\n",
    "            val = metric_dict[policy]\n",
    "            mean = val[:,1:].mean(axis=1)\n",
    "            std = val.std(axis = 1)\n",
    "            n= val.shape[1]\n",
    "            yerr = std / np.sqrt(n) * stats.t.ppf(1-0.05/2, n - 1)\n",
    "            x = val[:,0]\n",
    "            bar1 = plt.errorbar(x, \n",
    "                                y=mean, \n",
    "                                linestyle='', \n",
    "                                yerr=yerr,                         \n",
    "                                # label=f'{policy}', \n",
    "                                # marker=m, \n",
    "                                color='black', \n",
    "                                # markevery=10, \n",
    "                                capsize=0\n",
    "                                )\n",
    "            \n",
    "            plt.plot(x,mean+yerr, marker=u, ls=\"\", color=\"black\", ms=10)\n",
    "            plt.plot(x,mean-yerr, marker=d, ls=\"\", color=\"black\", ms=10)\n",
    "fig.savefig('1-omega_vs_mse.eps', format='eps', bbox_inches='tight')\n",
    "plt.show()\n"
   ]
  },
  {
   "cell_type": "code",
   "execution_count": null,
   "metadata": {},
   "outputs": [],
   "source": []
  }
 ],
 "metadata": {
  "kernelspec": {
   "display_name": "py39",
   "language": "python",
   "name": "python3"
  },
  "language_info": {
   "codemirror_mode": {
    "name": "ipython",
    "version": 3
   },
   "file_extension": ".py",
   "mimetype": "text/x-python",
   "name": "python",
   "nbconvert_exporter": "python",
   "pygments_lexer": "ipython3",
   "version": "3.9.7"
  },
  "orig_nbformat": 4
 },
 "nbformat": 4,
 "nbformat_minor": 2
}
